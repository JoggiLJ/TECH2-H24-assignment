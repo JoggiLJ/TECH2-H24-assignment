{
 "cells": [
  {
   "cell_type": "markdown",
   "id": "3630f10e-a09a-40ff-9e65-849e0fef002c",
   "metadata": {},
   "source": [
    "First, i need to import necessary functions from my python script, and other handy functions such as pandas"
   ]
  },
  {
   "cell_type": "code",
   "execution_count": 414,
   "id": "082166ac-e28a-4aa6-9c99-0776d3ef2282",
   "metadata": {},
   "outputs": [],
   "source": [
    "from LoopVsBuiltin import std_loops, std_builtin\n",
    "from pandas import *\n",
    "import random, csv\n",
    "import numpy as np"
   ]
  },
  {
   "cell_type": "markdown",
   "id": "e5bdf0e3-5d13-4828-8e28-a6666c0c7a3c",
   "metadata": {},
   "source": [
    "I open the data.csv file"
   ]
  },
  {
   "cell_type": "code",
   "execution_count": 438,
   "id": "0bd588c6-b935-47ee-aa02-505d59ff4e11",
   "metadata": {},
   "outputs": [],
   "source": [
    "f = read_csv('data.csv')"
   ]
  },
  {
   "cell_type": "markdown",
   "id": "5e53a22e-16c1-43b8-88a4-c73c2ef6e6ad",
   "metadata": {},
   "source": [
    "I extract a 1x10 000 collumn from the file, note that I needed to add the first row back in, as pandas thought of this as a \"name\" for the column"
   ]
  },
  {
   "cell_type": "code",
   "execution_count": 471,
   "id": "78083f57-182d-4903-bccc-174e502d6dcf",
   "metadata": {},
   "outputs": [],
   "source": [
    "column = f['0.6823518632481435.2'].tolist()\n",
    "column.insert(0, 0.6823518632481435)"
   ]
  },
  {
   "cell_type": "markdown",
   "id": "29984314-356f-4253-a2b0-964965f2cd64",
   "metadata": {},
   "source": [
    "I define two new columns consisting of the relevant amount of data"
   ]
  },
  {
   "cell_type": "code",
   "execution_count": 477,
   "id": "23a64229-aed8-433f-8fed-ed4bc1c88cd5",
   "metadata": {},
   "outputs": [],
   "source": [
    "column100 = column[:100]\n",
    "column1000 = column[:1000]"
   ]
  },
  {
   "cell_type": "markdown",
   "id": "d1ae1306-a46e-44a2-88cf-7016f3769f55",
   "metadata": {},
   "source": [
    "I compare the results from the three different methods on the different columns. They are roughly the same"
   ]
  },
  {
   "cell_type": "code",
   "execution_count": 483,
   "id": "94ec52ad-036d-40e3-aa24-0cc155434952",
   "metadata": {},
   "outputs": [
    {
     "name": "stdout",
     "output_type": "stream",
     "text": [
      "0.2823721097353603\n",
      "0.2823721097353601\n",
      "0.28237210973536014\n"
     ]
    }
   ],
   "source": [
    "print(std_loops(column100))\n",
    "print(std_builtin(column100))\n",
    "print(np.std(column100))"
   ]
  },
  {
   "cell_type": "code",
   "execution_count": 485,
   "id": "392a27c0-abec-4dbf-9ba9-3e5148e1a1eb",
   "metadata": {},
   "outputs": [
    {
     "name": "stdout",
     "output_type": "stream",
     "text": [
      "0.28467443283850546\n",
      "0.2846744328385061\n",
      "0.28467443283850596\n"
     ]
    }
   ],
   "source": [
    "print(std_loops(column1000))\n",
    "print(std_builtin(column1000))\n",
    "print(np.std(column1000))"
   ]
  },
  {
   "cell_type": "code",
   "execution_count": 487,
   "id": "2c67763e-674b-49be-b178-eb614b3cf905",
   "metadata": {},
   "outputs": [
    {
     "name": "stdout",
     "output_type": "stream",
     "text": [
      "0.28540452694761564\n",
      "0.28540452694761564\n",
      "0.2854045269476156\n"
     ]
    }
   ],
   "source": [
    "print(std_loops(column))\n",
    "print(std_builtin(column))\n",
    "print(np.std(column))"
   ]
  },
  {
   "cell_type": "markdown",
   "id": "8ae5d020-d9f1-4276-8a76-2482922a2625",
   "metadata": {},
   "source": [
    "I test the three different functions with the most cumbersome function. It seems that the np. method is the most efficient, and the loop method is the least efficent. This probably varies as the amount of data decreases."
   ]
  },
  {
   "cell_type": "code",
   "execution_count": 497,
   "id": "6fcd17f7-a4d5-4cb0-8d6d-e89132c5e085",
   "metadata": {},
   "outputs": [
    {
     "name": "stdout",
     "output_type": "stream",
     "text": [
      "2.98 ms ± 107 μs per loop (mean ± std. dev. of 7 runs, 100 loops each)\n"
     ]
    }
   ],
   "source": [
    "%timeit (std_loops(column))"
   ]
  },
  {
   "cell_type": "code",
   "execution_count": 499,
   "id": "24ee0bbd-b8ca-466f-9d61-df0e68608052",
   "metadata": {},
   "outputs": [
    {
     "name": "stdout",
     "output_type": "stream",
     "text": [
      "1.12 ms ± 34.1 μs per loop (mean ± std. dev. of 7 runs, 1,000 loops each)\n"
     ]
    }
   ],
   "source": [
    "%timeit (std_builtin(column))"
   ]
  },
  {
   "cell_type": "code",
   "execution_count": 501,
   "id": "a24adc22-feab-4017-a419-20d1e7f44203",
   "metadata": {},
   "outputs": [
    {
     "name": "stdout",
     "output_type": "stream",
     "text": [
      "658 μs ± 69.2 μs per loop (mean ± std. dev. of 7 runs, 1,000 loops each)\n"
     ]
    }
   ],
   "source": [
    "%timeit (np.std(column))"
   ]
  },
  {
   "cell_type": "markdown",
   "id": "d2db38ca-1915-454a-9e2f-395b1f42331e",
   "metadata": {},
   "source": [
    "I test my hypothesis by creating a small list from 1 to 5 and ask the different functions to solve sd for the list. In this case the loop and built in functions are considerably more efficent tha numpy's alternative. "
   ]
  },
  {
   "cell_type": "code",
   "execution_count": 519,
   "id": "6a458ead-f231-425d-998a-a112ec193b6c",
   "metadata": {},
   "outputs": [],
   "source": [
    "shortList = [1, 2, 3, 4, 5]"
   ]
  },
  {
   "cell_type": "code",
   "execution_count": 525,
   "id": "fd3fa442-dbb4-4003-91a3-90d61c4a7168",
   "metadata": {},
   "outputs": [
    {
     "name": "stdout",
     "output_type": "stream",
     "text": [
      "1.22 μs ± 83.8 ns per loop (mean ± std. dev. of 7 runs, 1,000,000 loops each)\n"
     ]
    }
   ],
   "source": [
    "%timeit (std_loops(shortList))"
   ]
  },
  {
   "cell_type": "code",
   "execution_count": 523,
   "id": "3a5cef5e-69f3-48a9-ad8f-9254f59d316c",
   "metadata": {},
   "outputs": [
    {
     "name": "stdout",
     "output_type": "stream",
     "text": [
      "745 ns ± 17.1 ns per loop (mean ± std. dev. of 7 runs, 1,000,000 loops each)\n"
     ]
    }
   ],
   "source": [
    "%timeit (std_builtin(shortList))"
   ]
  },
  {
   "cell_type": "code",
   "execution_count": 515,
   "id": "62d2aea5-b627-429b-a71e-781ab67495bf",
   "metadata": {},
   "outputs": [
    {
     "name": "stdout",
     "output_type": "stream",
     "text": [
      "31.9 μs ± 1.54 μs per loop (mean ± std. dev. of 7 runs, 10,000 loops each)\n"
     ]
    }
   ],
   "source": [
    "%timeit (np.std(shortList))"
   ]
  }
 ],
 "metadata": {
  "kernelspec": {
   "display_name": "Python 3 (ipykernel)",
   "language": "python",
   "name": "python3"
  },
  "language_info": {
   "codemirror_mode": {
    "name": "ipython",
    "version": 3
   },
   "file_extension": ".py",
   "mimetype": "text/x-python",
   "name": "python",
   "nbconvert_exporter": "python",
   "pygments_lexer": "ipython3",
   "version": "3.12.4"
  }
 },
 "nbformat": 4,
 "nbformat_minor": 5
}
